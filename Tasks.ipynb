{
 "cells": [
  {
   "cell_type": "markdown",
   "metadata": {},
   "source": [
    "Read about:\n",
    "1. RMSProp\n",
    "2. nAdam\n",
    "3. Adam\n",
    "4. SGD + momentum\n",
    "5. How to tune hyper-parameters\n",
    "6. put LateX template for thesis https://libraryguides.lehigh.edu/c.php?g=106519&p=692308\n",
    "\n",
    "\n",
    "Task for next week: \n",
    "1. Implement SGD on your own\n",
    "2. Compare the algorithms on MNIST\n",
    "3. use the hyper-parameters serch to find the best settings for MNIST"
   ]
  },
  {
   "cell_type": "code",
   "execution_count": null,
   "metadata": {},
   "outputs": [],
   "source": []
  },
  {
   "cell_type": "code",
   "execution_count": null,
   "metadata": {},
   "outputs": [],
   "source": []
  },
  {
   "cell_type": "code",
   "execution_count": null,
   "metadata": {},
   "outputs": [],
   "source": []
  }
 ],
 "metadata": {
  "kernelspec": {
   "display_name": "Python 2-os",
   "language": "python",
   "name": "python2"
  },
  "language_info": {
   "codemirror_mode": {
    "name": "ipython",
    "version": 2
   },
   "file_extension": ".py",
   "mimetype": "text/x-python",
   "name": "python",
   "nbconvert_exporter": "python",
   "pygments_lexer": "ipython2",
   "version": "2.7.9"
  }
 },
 "nbformat": 4,
 "nbformat_minor": 2
}
